{
  "nbformat": 4,
  "nbformat_minor": 0,
  "metadata": {
    "colab": {
      "provenance": [],
      "include_colab_link": true
    },
    "kernelspec": {
      "name": "python3",
      "display_name": "Python 3"
    },
    "language_info": {
      "name": "python"
    }
  },
  "cells": [
    {
      "cell_type": "markdown",
      "metadata": {
        "id": "view-in-github",
        "colab_type": "text"
      },
      "source": [
        "<a href=\"https://colab.research.google.com/github/waveslike/data-playground/blob/main/%E2%9C%85Section_6_1_%ED%95%A8%EC%88%98_ipynb%EC%9D%98_%EC%82%AC%EB%B3%B8.ipynb\" target=\"_parent\"><img src=\"https://colab.research.google.com/assets/colab-badge.svg\" alt=\"Open In Colab\"/></a>"
      ]
    },
    {
      "cell_type": "markdown",
      "metadata": {
        "id": "UmReo5EYjybS"
      },
      "source": [
        "# 함수 function"
      ]
    },
    {
      "cell_type": "markdown",
      "metadata": {
        "id": "Qawc6FgSQQc8"
      },
      "source": [
        "## 수학에서의 함수\n",
        "\n",
        "<div>\n",
        "<img src=\"https://t1.daumcdn.net/cfile/tistory/99B748355AC6FCAE0E\" width=\"200\"/>\n",
        "</div>\n",
        "\n",
        "```\n",
        "y = f(x)\n",
        "```"
      ]
    },
    {
      "cell_type": "markdown",
      "metadata": {
        "id": "tp1NndWkeWSS"
      },
      "source": [
        "## 내장함수\n",
        "* https://docs.python.org/ko/3/library/functions.html"
      ]
    },
    {
      "cell_type": "markdown",
      "metadata": {
        "id": "EvxKL7jaXhK2"
      },
      "source": [
        "### 예시 1. print()"
      ]
    },
    {
      "cell_type": "code",
      "metadata": {
        "id": "7YZDg38rXPQy",
        "colab": {
          "base_uri": "https://localhost:8080/"
        },
        "outputId": "f95395bb-00fe-45d5-a7d3-8ab071323af0"
      },
      "source": [
        "print('hello')"
      ],
      "execution_count": null,
      "outputs": [
        {
          "output_type": "stream",
          "name": "stdout",
          "text": [
            "hello\n"
          ]
        }
      ]
    },
    {
      "cell_type": "markdown",
      "metadata": {
        "id": "AlNAkwMLXnN_"
      },
      "source": [
        "### 예시 2. len()"
      ]
    },
    {
      "cell_type": "code",
      "metadata": {
        "id": "cVCwIeTHXPxG",
        "colab": {
          "base_uri": "https://localhost:8080/"
        },
        "outputId": "a96d1416-fcbd-44c7-af62-c8a71d2b418c"
      },
      "source": [
        "len('hello')"
      ],
      "execution_count": null,
      "outputs": [
        {
          "output_type": "execute_result",
          "data": {
            "text/plain": [
              "5"
            ]
          },
          "metadata": {},
          "execution_count": 2
        }
      ]
    },
    {
      "cell_type": "markdown",
      "metadata": {
        "id": "nsv9wBKDegJy"
      },
      "source": [
        "# 함수 만들기\n",
        "\n",
        "```python\n",
        "def 함수명():\n",
        "    실행할 명령들\n",
        "    ...\n",
        "```\n",
        "\n",
        "여기서 def는 define 즉 정의한다는 뜻입니다.\n",
        "4칸 인덴트를 한 후 함수에 정의될 실행 명령을 적어주면 됩니다.\n",
        "\n",
        "이 함수에서 실행되기 원하는 명령들이 몇 줄이 되더라도 인덴트를 지켜주면 함수 안에 정의가 됩니다."
      ]
    },
    {
      "cell_type": "code",
      "metadata": {
        "id": "dedH6TWDYwY0"
      },
      "source": [
        "def hello():\n",
        "    pass"
      ],
      "execution_count": null,
      "outputs": []
    },
    {
      "cell_type": "code",
      "metadata": {
        "id": "3fH1bYC4PdCI"
      },
      "source": [
        "# print()\n",
        "# len()\n",
        "hello()"
      ],
      "execution_count": null,
      "outputs": []
    },
    {
      "cell_type": "markdown",
      "metadata": {
        "id": "z0lFfAORetsj"
      },
      "source": [
        "# **`return`**\n",
        "\n",
        "함수를 끝내면서 **어떤 값을 결과로 돌려줄 수 있습니다.**\n",
        "\n",
        "`hello()`함수를 다시 정의해서, 'hello'를 return해주는 함수를 한번 만들어봅시다.\n"
      ]
    },
    {
      "cell_type": "code",
      "metadata": {
        "id": "gZn5amDEPsLg"
      },
      "source": [
        "def hello():\n",
        "    return 'hello' # output"
      ],
      "execution_count": null,
      "outputs": []
    },
    {
      "cell_type": "code",
      "metadata": {
        "id": "woqJgLMYP2tj"
      },
      "source": [
        "greeting = hello()"
      ],
      "execution_count": null,
      "outputs": []
    },
    {
      "cell_type": "code",
      "metadata": {
        "colab": {
          "base_uri": "https://localhost:8080/",
          "height": 52
        },
        "id": "hDtUwFdlP7Dl",
        "outputId": "561ff5b7-2f1d-4042-ada7-da4dd9f33bbf"
      },
      "source": [
        "print(type(greeting))\n",
        "greeting"
      ],
      "execution_count": null,
      "outputs": [
        {
          "output_type": "stream",
          "name": "stdout",
          "text": [
            "<class 'str'>\n"
          ]
        },
        {
          "output_type": "execute_result",
          "data": {
            "application/vnd.google.colaboratory.intrinsic+json": {
              "type": "string"
            },
            "text/plain": [
              "'hello'"
            ]
          },
          "metadata": {},
          "execution_count": 11
        }
      ]
    },
    {
      "cell_type": "markdown",
      "metadata": {
        "id": "DSzQh0SBeu78"
      },
      "source": [
        "## 입력\n",
        "* [What is the difference between arguments and parameters?](https://docs.python.org/3/faq/programming.html#what-is-the-difference-between-arguments-and-parameters)"
      ]
    },
    {
      "cell_type": "code",
      "metadata": {
        "id": "L6t-Jg3JYxlF"
      },
      "source": [
        "def hello(name): # input\n",
        "    return f'{name}야 안녕' # output"
      ],
      "execution_count": null,
      "outputs": []
    },
    {
      "cell_type": "code",
      "metadata": {
        "colab": {
          "base_uri": "https://localhost:8080/",
          "height": 35
        },
        "id": "lT8kYzeqQRhH",
        "outputId": "eb3d9606-ffff-4673-ac6d-ff2d764ba4a2"
      },
      "source": [
        "# len('hello')\n",
        "hello('오즈')"
      ],
      "execution_count": null,
      "outputs": [
        {
          "output_type": "execute_result",
          "data": {
            "application/vnd.google.colaboratory.intrinsic+json": {
              "type": "string"
            },
            "text/plain": [
              "'오즈야 안녕'"
            ]
          },
          "metadata": {},
          "execution_count": 13
        }
      ]
    },
    {
      "cell_type": "markdown",
      "metadata": {
        "id": "a4sa8O5d6huO"
      },
      "source": [
        "### 연습문제 1\n",
        "\n",
        "두 정수를 받아서 정수의 곱을 리턴하는 함수 `multiply()`를 작성해봅시다.\n",
        "\n",
        "`multiply(2, 3)`을 테스트하여 결과가 6이 나오는지 확인해주세요."
      ]
    },
    {
      "cell_type": "code",
      "metadata": {
        "id": "lpPo_FC_Y0W3"
      },
      "source": [
        "def multiply(x, y):\n",
        "    result = x * y\n",
        "    return result"
      ],
      "execution_count": null,
      "outputs": []
    },
    {
      "cell_type": "code",
      "metadata": {
        "colab": {
          "base_uri": "https://localhost:8080/"
        },
        "id": "9FhLpCCuRDIM",
        "outputId": "d39e4c01-a20b-4a2f-ee30-f870aff66a4c"
      },
      "source": [
        "multiply(2, 3)"
      ],
      "execution_count": null,
      "outputs": [
        {
          "output_type": "execute_result",
          "data": {
            "text/plain": [
              "6"
            ]
          },
          "metadata": {},
          "execution_count": 15
        }
      ]
    },
    {
      "cell_type": "markdown",
      "metadata": {
        "id": "6ynVmXKvTHew"
      },
      "source": [
        "### 연습문제 2\n",
        "\n",
        "정수 3개를 입력받아 평균을 리턴하는 함수 `average_3()`를 작성해봅시다.\n",
        "\n",
        "`average_3(2, 3, 4)`를 테스트하여 결과가 3이 나오는지 확인해주세요."
      ]
    },
    {
      "cell_type": "code",
      "metadata": {
        "id": "Xc1yHzyhY1qa"
      },
      "source": [
        "def average_3(x, y, z):\n",
        "    avg = (x + y + z) / 3\n",
        "    return avg"
      ],
      "execution_count": null,
      "outputs": []
    },
    {
      "cell_type": "code",
      "metadata": {
        "colab": {
          "base_uri": "https://localhost:8080/"
        },
        "id": "5yPMiQXpRoQr",
        "outputId": "d6496193-cb25-455e-b02e-c707dfd4cb75"
      },
      "source": [
        "average_3(2, 3, 4)"
      ],
      "execution_count": null,
      "outputs": [
        {
          "output_type": "execute_result",
          "data": {
            "text/plain": [
              "3.0"
            ]
          },
          "metadata": {},
          "execution_count": 18
        }
      ]
    },
    {
      "cell_type": "markdown",
      "metadata": {
        "id": "REoi40D17VPN"
      },
      "source": [
        "### 연습문제 3\n",
        "\n",
        "1개의 리스트를 입력받아 리스트의 평균을 리턴하는 함수 `average()`를 작성해봅시다.\n",
        "\n",
        "`average([2, 3, 4, 5, 6])`을 테스트하여 결과가 4가 나오는지 확인해주세요."
      ]
    },
    {
      "cell_type": "code",
      "metadata": {
        "id": "TObSRnFXY3Fr"
      },
      "source": [
        "def average(nums):\n",
        "    avg = sum(nums) / len(nums)\n",
        "    return avg"
      ],
      "execution_count": null,
      "outputs": []
    },
    {
      "cell_type": "code",
      "metadata": {
        "colab": {
          "base_uri": "https://localhost:8080/"
        },
        "id": "9i4dJRwhR3Cn",
        "outputId": "bb7fdaa8-3fc9-4c93-8722-b8c5b5333cc2"
      },
      "source": [
        "average([2, 3, 4, 5, 6])"
      ],
      "execution_count": null,
      "outputs": [
        {
          "output_type": "execute_result",
          "data": {
            "text/plain": [
              "4.0"
            ]
          },
          "metadata": {},
          "execution_count": 20
        }
      ]
    },
    {
      "cell_type": "markdown",
      "metadata": {
        "id": "co6JL6ID-daE"
      },
      "source": [
        "### 연습문제 4\n",
        "\n",
        "길이가 같은 두 개의 리스트를 입력받아 첫 번째 입력받은 리스트를 key, 두 번째 입력받은 리스트를 value로 하는 딕셔너리를 리턴하는 함수 `to_dict()`를 작성해봅시다.\n",
        "\n",
        "`to_dict(['오즈', '레오', '선미'], ['고양이', '강아지', '인간'])`의 결과가 `{'오즈': '고양이', '레오': '강아지', '선미': '인간'}`으로 나오는지 확인해주세요."
      ]
    },
    {
      "cell_type": "code",
      "metadata": {
        "id": "vwEVBDZxY45c"
      },
      "source": [
        "# dict comprehension & zip\n",
        "def to_dict(name, species):\n",
        "    return {n: s for n, s in zip(name, species)}"
      ],
      "execution_count": null,
      "outputs": []
    },
    {
      "cell_type": "code",
      "metadata": {
        "id": "F_2BRjkRSfpA"
      },
      "source": [
        "# zip\n",
        "def to_dict(name, species):\n",
        "    d = {}\n",
        "    for n, s in zip(name, species):\n",
        "        d[n] = s\n",
        "    return d"
      ],
      "execution_count": null,
      "outputs": []
    },
    {
      "cell_type": "code",
      "metadata": {
        "id": "0OXVOo0ZSwDm"
      },
      "source": [
        "# range() 활용\n",
        "def to_dict(name, species):\n",
        "    d = {}\n",
        "    for i in range(len(name)):\n",
        "        d[name[i]] = species[i]\n",
        "    return d"
      ],
      "execution_count": null,
      "outputs": []
    },
    {
      "cell_type": "code",
      "metadata": {
        "colab": {
          "base_uri": "https://localhost:8080/"
        },
        "id": "WHBTSOr2STWH",
        "outputId": "6fe9e24e-f761-4e72-d8bb-7b99d9bc790b"
      },
      "source": [
        "a = ['오즈', '레오', '선미']\n",
        "b = ['고양이', '강아지', '인간']\n",
        "\n",
        "to_dict(a, b)"
      ],
      "execution_count": null,
      "outputs": [
        {
          "output_type": "execute_result",
          "data": {
            "text/plain": [
              "{'레오': '강아지', '선미': '인간', '오즈': '고양이'}"
            ]
          },
          "metadata": {},
          "execution_count": 28
        }
      ]
    },
    {
      "cell_type": "markdown",
      "metadata": {
        "id": "dcEJ_3bw8Fj4"
      },
      "source": [
        "# lambda (익명함수)\n",
        "일회성으로 함수를 만들고 싶을 때 사용합니다"
      ]
    },
    {
      "cell_type": "code",
      "metadata": {
        "id": "lprvXZf0Y-KB"
      },
      "source": [
        "def add1(x, y):\n",
        "    return x + y"
      ],
      "execution_count": null,
      "outputs": []
    },
    {
      "cell_type": "code",
      "metadata": {
        "id": "Esj0au8_Tdmm"
      },
      "source": [
        "add2 = lambda x, y: x + y"
      ],
      "execution_count": null,
      "outputs": []
    },
    {
      "cell_type": "code",
      "metadata": {
        "colab": {
          "base_uri": "https://localhost:8080/"
        },
        "id": "Q2pUMH7_Tk53",
        "outputId": "a34fadcf-2fa2-4062-fa8e-8d2ecefd5211"
      },
      "source": [
        "add1(1, 2)"
      ],
      "execution_count": null,
      "outputs": [
        {
          "output_type": "execute_result",
          "data": {
            "text/plain": [
              "3"
            ]
          },
          "metadata": {},
          "execution_count": 34
        }
      ]
    },
    {
      "cell_type": "code",
      "metadata": {
        "colab": {
          "base_uri": "https://localhost:8080/"
        },
        "id": "DXn2cbRwTmJQ",
        "outputId": "621d9a1c-3e68-429d-aa62-b890f64bf69b"
      },
      "source": [
        "add2(1, 2)"
      ],
      "execution_count": null,
      "outputs": [
        {
          "output_type": "execute_result",
          "data": {
            "text/plain": [
              "3"
            ]
          },
          "metadata": {},
          "execution_count": 35
        }
      ]
    },
    {
      "cell_type": "markdown",
      "metadata": {
        "id": "iOOrzJBCyK4J"
      },
      "source": [
        "# 참고\n",
        "* [함수](https://tensorflow.blog/%ed%9a%8c%ec%98%a4%eb%a6%ac%eb%b0%94%eb%9e%8c%ec%9d%84-%ed%83%84-%ed%8c%8c%ec%9d%b4%ec%8d%ac/%ed%95%a8%ec%88%98/)\n",
        "* [Defining Functions](https://docs.python.org/3/tutorial/controlflow.html#defining-functions)"
      ]
    }
  ]
}